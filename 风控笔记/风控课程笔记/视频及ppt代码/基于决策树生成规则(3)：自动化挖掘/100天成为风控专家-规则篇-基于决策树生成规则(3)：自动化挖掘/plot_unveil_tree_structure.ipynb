{
 "cells": [
  {
   "cell_type": "markdown",
   "metadata": {},
   "source": [
    "\n",
    "# Understanding the decision tree structure\n",
    "\n",
    "The decision tree structure can be analysed to gain further insight on the\n",
    "relation between the features and the target to predict. In this example, we\n",
    "show how to retrieve:\n",
    "\n",
    "- the binary tree structure;\n",
    "- the depth of each node and whether or not it's a leaf;\n",
    "- the nodes that were reached by a sample using the ``decision_path`` method;\n",
    "- the leaf that was reached by a sample using the apply method;\n",
    "- the rules that were used to predict a sample;\n",
    "- the decision path shared by a group of samples.\n"
   ]
  },
  {
   "cell_type": "code",
   "metadata": {
    "collapsed": false,
    "ExecuteTime": {
     "end_time": "2025-02-10T13:42:48.378657Z",
     "start_time": "2025-02-10T13:42:47.113589Z"
    }
   },
   "source": [
    "# Authors: The scikit-learn developers\n",
    "# SPDX-License-Identifier: BSD-3-Clause\n",
    "\n",
    "import numpy as np\n",
    "from matplotlib import pyplot as plt\n",
    "\n",
    "from sklearn import tree\n",
    "from sklearn.datasets import load_iris\n",
    "from sklearn.model_selection import train_test_split\n",
    "from sklearn.tree import DecisionTreeClassifier"
   ],
   "outputs": [],
   "execution_count": 1
  },
  {
   "cell_type": "markdown",
   "metadata": {},
   "source": [
    "## Train tree classifier\n",
    "First, we fit a :class:`~sklearn.tree.DecisionTreeClassifier` using the\n",
    ":func:`~sklearn.datasets.load_iris` dataset.\n",
    "\n"
   ]
  },
  {
   "cell_type": "code",
   "metadata": {
    "collapsed": false,
    "ExecuteTime": {
     "end_time": "2025-02-10T13:42:51.440462Z",
     "start_time": "2025-02-10T13:42:51.399680Z"
    }
   },
   "source": [
    "iris = load_iris()\n",
    "X = iris.data\n",
    "y = iris.target\n",
    "X_train, X_test, y_train, y_test = train_test_split(X, y, random_state=0)\n",
    "\n",
    "clf = DecisionTreeClassifier(max_leaf_nodes=3, random_state=0)\n",
    "clf.fit(X_train, y_train)"
   ],
   "outputs": [
    {
     "data": {
      "text/plain": [
       "DecisionTreeClassifier(max_leaf_nodes=3, random_state=0)"
      ]
     },
     "execution_count": 2,
     "metadata": {},
     "output_type": "execute_result"
    }
   ],
   "execution_count": 2
  },
  {
   "cell_type": "markdown",
   "metadata": {},
   "source": [
    "## Tree structure\n",
    "\n",
    "The decision classifier has an attribute called ``tree_`` which allows access\n",
    "to low level attributes such as ``node_count``, the total number of nodes,\n",
    "and ``max_depth``, the maximal depth of the tree. The\n",
    "``tree_.compute_node_depths()`` method computes the depth of each node in the\n",
    "tree. `tree_` also stores the entire binary tree structure, represented as a\n",
    "number of parallel arrays. The i-th element of each array holds information\n",
    "about the node ``i``. Node 0 is the tree's root. Some of the arrays only\n",
    "apply to either leaves or split nodes. In this case the values of the nodes\n",
    "of the other type is arbitrary. For example, the arrays ``feature`` and\n",
    "``threshold`` only apply to split nodes. The values for leaf nodes in these\n",
    "arrays are therefore arbitrary.\n",
    "\n",
    "Among these arrays, we have:\n",
    "\n",
    "- ``children_left[i]``: id of the left child of node ``i`` or -1 if leaf node\n",
    "- ``children_right[i]``: id of the right child of node ``i`` or -1 if leaf node\n",
    "- ``feature[i]``: feature used for splitting node ``i``\n",
    "- ``threshold[i]``: threshold value at node ``i``\n",
    "- ``n_node_samples[i]``: the number of training samples reaching node ``i``\n",
    "- ``impurity[i]``: the impurity at node ``i``\n",
    "- ``weighted_n_node_samples[i]``: the weighted number of training samples\n",
    "  reaching node ``i``\n",
    "- ``value[i, j, k]``: the summary of the training samples that reached node i for\n",
    "  output j and class k (for regression tree, class is set to 1). See below\n",
    "  for more information about ``value``.\n",
    "\n",
    "Using the arrays, we can traverse the tree structure to compute various\n",
    "properties. Below, we will compute the depth of each node and whether or not\n",
    "it is a leaf.\n",
    "\n"
   ]
  },
  {
   "cell_type": "code",
   "metadata": {
    "collapsed": false,
    "ExecuteTime": {
     "end_time": "2025-02-10T13:43:51.779964Z",
     "start_time": "2025-02-10T13:43:51.763978Z"
    }
   },
   "source": [
    "n_nodes = clf.tree_.node_count\n",
    "children_left = clf.tree_.children_left\n",
    "children_right = clf.tree_.children_right\n",
    "feature = clf.tree_.feature\n",
    "threshold = clf.tree_.threshold\n",
    "values = clf.tree_.value\n",
    "\n",
    "node_depth = np.zeros(shape=n_nodes, dtype=np.int64)\n",
    "is_leaves = np.zeros(shape=n_nodes, dtype=bool)\n",
    "stack = [(0, 0)]  # start with the root node id (0) and its depth (0)\n",
    "while len(stack) > 0:\n",
    "    # `pop` ensures each node is only visited once\n",
    "    node_id, depth = stack.pop()\n",
    "    node_depth[node_id] = depth\n",
    "\n",
    "    # If the left and right child of a node is not the same we have a split\n",
    "    # node\n",
    "    is_split_node = children_left[node_id] != children_right[node_id]\n",
    "    # If a split node, append left and right children and depth to `stack`\n",
    "    # so we can loop through them\n",
    "    if is_split_node:\n",
    "        stack.append((children_left[node_id], depth + 1))\n",
    "        stack.append((children_right[node_id], depth + 1))\n",
    "    else:\n",
    "        is_leaves[node_id] = True\n",
    "\n",
    "print(\n",
    "    \"The binary tree structure has {n} nodes and has \"\n",
    "    \"the following tree structure:\\n\".format(n=n_nodes)\n",
    ")\n",
    "for i in range(n_nodes):\n",
    "    if is_leaves[i]:\n",
    "        print(\n",
    "            \"{space}node={node} is a leaf node with value={value}.\".format(\n",
    "                space=node_depth[i] * \"\\t\", node=i, value=np.around(values[i], 3)\n",
    "            )\n",
    "        )\n",
    "    else:\n",
    "        print(\n",
    "            \"{space}node={node} is a split node with value={value}: \"\n",
    "            \"go to node {left} if X[:, {feature}] <= {threshold} \"\n",
    "            \"else to node {right}.\".format(\n",
    "                space=node_depth[i] * \"\\t\",\n",
    "                node=i,\n",
    "                left=children_left[i],\n",
    "                feature=feature[i],\n",
    "                threshold=threshold[i],\n",
    "                right=children_right[i],\n",
    "                value=np.around(values[i], 3),\n",
    "            )\n",
    "        )"
   ],
   "outputs": [
    {
     "name": "stdout",
     "output_type": "stream",
     "text": [
      "The binary tree structure has 5 nodes and has the following tree structure:\n",
      "\n",
      "node=0 is a split node with value=[[37. 34. 41.]]: go to node 1 if X[:, 3] <= 0.800000011920929 else to node 2.\n",
      "\tnode=1 is a leaf node with value=[[37.  0.  0.]].\n",
      "\tnode=2 is a split node with value=[[ 0. 34. 41.]]: go to node 3 if X[:, 2] <= 4.950000047683716 else to node 4.\n",
      "\t\tnode=3 is a leaf node with value=[[ 0. 33.  3.]].\n",
      "\t\tnode=4 is a leaf node with value=[[ 0.  1. 38.]].\n"
     ]
    }
   ],
   "execution_count": 3
  },
  {
   "cell_type": "markdown",
   "metadata": {},
   "source": [
    "## What is the values array used here?\n",
    "The `tree_.value` array is a 3D array of shape\n",
    "[``n_nodes``, ``n_classes``, ``n_outputs``] which provides the proportion of samples\n",
    "reaching a node for each class and for each output.\n",
    "Each node has a ``value`` array which is the proportion of weighted samples reaching\n",
    "this node for each output and class with respect to the parent node.\n",
    "\n",
    "One could convert this to the absolute weighted number of samples reaching a node,\n",
    "by multiplying this number by `tree_.weighted_n_node_samples[node_idx]` for the\n",
    "given node. Note sample weights are not used in this example, so the weighted\n",
    "number of samples is the number of samples reaching the node because each sample\n",
    "has a weight of 1 by default.\n",
    "\n",
    "For example, in the above tree built on the iris dataset, the root node has\n",
    "``value = [0.33, 0.304, 0.366]`` indicating there are 33% of class 0 samples,\n",
    "30.4% of class 1 samples, and 36.6% of class 2 samples at the root node. One can\n",
    "convert this to the absolute number of samples by multiplying by the number of\n",
    "samples reaching the root node, which is `tree_.weighted_n_node_samples[0]`.\n",
    "Then the root node has ``value = [37, 34, 41]``, indicating there are 37 samples\n",
    "of class 0, 34 samples of class 1, and 41 samples of class 2 at the root node.\n",
    "\n",
    "Traversing the tree, the samples are split and as a result, the ``value`` array\n",
    "reaching each node changes. The left child of the root node has ``value = [1., 0, 0]``\n",
    "(or ``value = [37, 0, 0]`` when converted to the absolute number of samples)\n",
    "because all 37 samples in the left child node are from class 0.\n",
    "\n",
    "Note: In this example, `n_outputs=1`, but the tree classifier can also handle\n",
    "multi-output problems. The `value` array at each node would just be a 2D\n",
    "array instead.\n",
    "\n"
   ]
  },
  {
   "cell_type": "markdown",
   "metadata": {},
   "source": [
    "We can compare the above output to the plot of the decision tree.\n",
    "Here, we show the proportions of samples of each class that reach each\n",
    "node corresponding to the actual elements of `tree_.value` array.\n",
    "\n"
   ]
  },
  {
   "cell_type": "code",
   "metadata": {
    "collapsed": false,
    "ExecuteTime": {
     "end_time": "2025-02-10T13:43:57.628271Z",
     "start_time": "2025-02-10T13:43:57.351528Z"
    }
   },
   "source": [
    "tree.plot_tree(clf, proportion=True)\n",
    "plt.show()"
   ],
   "outputs": [
    {
     "data": {
      "text/plain": [
       "<Figure size 640x480 with 1 Axes>"
      ],
      "image/png": "[encoded data removed]"
     },
     "metadata": {},
     "output_type": "display_data"
    }
   ],
   "execution_count": 4
  },
  {
   "cell_type": "markdown",
   "metadata": {},
   "source": [
    "## Decision path\n",
    "\n",
    "We can also retrieve the decision path of samples of interest. The\n",
    "``decision_path`` method outputs an indicator matrix that allows us to\n",
    "retrieve the nodes the samples of interest traverse through. A non zero\n",
    "element in the indicator matrix at position ``(i, j)`` indicates that\n",
    "the sample ``i`` goes through the node ``j``. Or, for one sample ``i``, the\n",
    "positions of the non zero elements in row ``i`` of the indicator matrix\n",
    "designate the ids of the nodes that sample goes through.\n",
    "\n",
    "The leaf ids reached by samples of interest can be obtained with the\n",
    "``apply`` method. This returns an array of the node ids of the leaves\n",
    "reached by each sample of interest. Using the leaf ids and the\n",
    "``decision_path`` we can obtain the splitting conditions that were used to\n",
    "predict a sample or a group of samples. First, let's do it for one sample.\n",
    "Note that ``node_index`` is a sparse matrix.\n",
    "\n"
   ]
  },
  {
   "cell_type": "code",
   "metadata": {
    "collapsed": false,
    "ExecuteTime": {
     "end_time": "2025-02-10T13:44:08.393502Z",
     "start_time": "2025-02-10T13:44:08.382357Z"
    }
   },
   "source": [
    "node_indicator = clf.decision_path(X_test)\n",
    "leaf_id = clf.apply(X_test)\n",
    "\n",
    "sample_id = 0\n",
    "# obtain ids of the nodes `sample_id` goes through, i.e., row `sample_id`\n",
    "node_index = node_indicator.indices[\n",
    "    node_indicator.indptr[sample_id] : node_indicator.indptr[sample_id + 1]\n",
    "]\n",
    "\n",
    "print(\"Rules used to predict sample {id}:\\n\".format(id=sample_id))\n",
    "for node_id in node_index:\n",
    "    # continue to the next node if it is a leaf node\n",
    "    if leaf_id[sample_id] == node_id:\n",
    "        continue\n",
    "\n",
    "    # check if value of the split feature for sample 0 is below threshold\n",
    "    if X_test[sample_id, feature[node_id]] <= threshold[node_id]:\n",
    "        threshold_sign = \"<=\"\n",
    "    else:\n",
    "        threshold_sign = \">\"\n",
    "\n",
    "    print(\n",
    "        \"decision node {node} : (X_test[{sample}, {feature}] = {value}) \"\n",
    "        \"{inequality} {threshold})\".format(\n",
    "            node=node_id,\n",
    "            sample=sample_id,\n",
    "            feature=feature[node_id],\n",
    "            value=X_test[sample_id, feature[node_id]],\n",
    "            inequality=threshold_sign,\n",
    "            threshold=threshold[node_id],\n",
    "        )\n",
    "    )"
   ],
   "outputs": [
    {
     "name": "stdout",
     "output_type": "stream",
     "text": [
      "Rules used to predict sample 0:\n",
      "\n",
      "decision node 0 : (X_test[0, 3] = 2.4) > 0.800000011920929)\n",
      "decision node 2 : (X_test[0, 2] = 5.1) > 4.950000047683716)\n"
     ]
    }
   ],
   "execution_count": 5
  },
  {
   "cell_type": "markdown",
   "metadata": {},
   "source": [
    "For a group of samples, we can determine the common nodes the samples go\n",
    "through.\n",
    "\n"
   ]
  },
  {
   "cell_type": "code",
   "metadata": {
    "collapsed": false,
    "ExecuteTime": {
     "end_time": "2025-02-10T13:44:13.927697Z",
     "start_time": "2025-02-10T13:44:13.919971Z"
    }
   },
   "source": [
    "sample_ids = [0, 1]\n",
    "# boolean array indicating the nodes both samples go through\n",
    "common_nodes = node_indicator.toarray()[sample_ids].sum(axis=0) == len(sample_ids)\n",
    "# obtain node ids using position in array\n",
    "common_node_id = np.arange(n_nodes)[common_nodes]\n",
    "\n",
    "print(\n",
    "    \"\\nThe following samples {samples} share the node(s) {nodes} in the tree.\".format(\n",
    "        samples=sample_ids, nodes=common_node_id\n",
    "    )\n",
    ")\n",
    "print(\"This is {prop}% of all nodes.\".format(prop=100 * len(common_node_id) / n_nodes))"
   ],
   "outputs": [
    {
     "name": "stdout",
     "output_type": "stream",
     "text": [
      "\n",
      "The following samples [0, 1] share the node(s) [0 2] in the tree.\n",
      "This is 40.0% of all nodes.\n"
     ]
    }
   ],
   "execution_count": 6
  }
 ],
 "metadata": {
  "kernelspec": {
   "display_name": "mybase",
   "language": "python",
   "name": "python3"
  },
  "language_info": {
   "codemirror_mode": {
    "name": "ipython",
    "version": 3
   },
   "file_extension": ".py",
   "mimetype": "text/x-python",
   "name": "python",
   "nbconvert_exporter": "python",
   "pygments_lexer": "ipython3",
   "version": "3.7.16"
  }
 },
 "nbformat": 4,
 "nbformat_minor": 0
}
